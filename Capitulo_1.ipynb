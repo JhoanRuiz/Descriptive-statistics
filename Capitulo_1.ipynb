{
 "cells": [
  {
   "cell_type": "markdown",
   "metadata": {},
   "source": [
    "# Nociones de estadística descriptiva"
   ]
  },
  {
   "cell_type": "markdown",
   "metadata": {},
   "source": [
    "## 1.1 Estadística"
   ]
  },
  {
   "cell_type": "markdown",
   "metadata": {},
   "source": [
    "La palabra **estadítica** se emplea en una gran variedad de formas. En plural se emplea como sinónimo de dato."
   ]
  },
  {
   "cell_type": "markdown",
   "metadata": {},
   "source": [
    "El trabajo estadístico o la investigación estadística es un proceso que pasa generalmente por las siguientes etapas:\n",
    "\n",
    "1. Formulación del problema o la tarea.\n",
    "2. Diseño del experimento.\n",
    "3. Recopilación de los datos.\n",
    "4. Clasificación, tabulación y descripción de resultados.\n",
    "5. Generalización o inferencia."
   ]
  },
  {
   "cell_type": "markdown",
   "metadata": {},
   "source": [
    "**Definición:** Se define la estadística, como la ciencia que proporciona un conjunto de métodos, técnicas o procedimientos para:\n",
    "- Recopilar.\n",
    "- Organizar (Clasificar, Agrupar).\n",
    "- Presentar.\n",
    "- Analizar\n",
    "\n",
    "datos con el fin de describirlos o de realizar generalizaciones válidas."
   ]
  },
  {
   "cell_type": "markdown",
   "metadata": {},
   "source": [
    "Se denomina **Estadística Descriptiva**, al conjunto de métodos estadísticos que se relacionan con el resumen y descripción de los datos, como tablas, gráficas, y el análisis mediente algunos cáculos. [1]\n",
    "\n",
    "Se denomina **Inferencia Estadística** al conjunto de métodos con los que se hacen la generalización o la inferencia sobre una población utilizando una muestra. La inferencia puede contener conclusiones que pueden no ser ciertas en forma absoluta, por lo que es necesario que éstas sean dadas con una medida de confiabilidad que es la probabilidad. [1]"
   ]
  },
  {
   "cell_type": "markdown",
   "metadata": {},
   "source": [
    "## 1.2 Población y muestra"
   ]
  },
  {
   "cell_type": "markdown",
   "metadata": {},
   "source": [
    "**Definición:** En forma general, en estadística; se denomina **población**, a todo el conjunto de elementos (que consiste de personas, objetos, etc.), que contienen una o mas características observables de naturaleza cualitativa o cuantitativa que se pueden medir en ellos. [1]\n",
    "\n",
    "A cada elemento de una población se denomina **unidad elemental o unidad estadística**. [1]"
   ]
  },
  {
   "cell_type": "markdown",
   "metadata": {},
   "source": [
    "El resultado de medir una característica observable de una unidad elemental, se denomina **dato estadístico** o **valor observado** o simplemente **observación**. [1]"
   ]
  },
  {
   "cell_type": "markdown",
   "metadata": {},
   "source": [
    "**Muestra:** Se denomina **muestra** a una parte de la población seleccionada de acuerdo con un plan o regla, con el fin de obtener información acerca de la población de la cual proviene.[1]"
   ]
  },
  {
   "cell_type": "markdown",
   "metadata": {},
   "source": [
    "**Parámetro:** Se denomina parámetro a una medida descriptiva que resuma una característica de la población, tal como la media ($\\mu$) o la varianza ($\\sigma^{2}$), calculada a partir de los datos observados de la toda la población. [1]\n",
    "\n",
    "**Estadística o estadígrafo:** Se denomina estadística a una medida descriptiva que resuma una característica de la muestra, tal como la media ($\\bar{x}$) o la varianza ($s^{2}$) calculada a partir de los datos observados de una muestra aleatoria.\n",
    "\n",
    "**Tipos de población:** Por el número de elementos que la componen, la población se clasifica en finita o infinita. [1]"
   ]
  },
  {
   "cell_type": "code",
   "execution_count": null,
   "metadata": {},
   "outputs": [],
   "source": []
  },
  {
   "cell_type": "code",
   "execution_count": null,
   "metadata": {},
   "outputs": [],
   "source": []
  },
  {
   "cell_type": "markdown",
   "metadata": {},
   "source": [
    "# Bibliografía\n",
    "\n",
    "- [1] Estadística Descriptiva e Inferencial [Manuel Cordova Zamora, 2003]\n",
    "- [2] Estadística para las ciencia administrativas [Lincoln L. Chao, 3-edición, 1993]"
   ]
  }
 ],
 "metadata": {
  "kernelspec": {
   "display_name": "R",
   "language": "R",
   "name": "ir"
  },
  "language_info": {
   "codemirror_mode": "r",
   "file_extension": ".r",
   "mimetype": "text/x-r-source",
   "name": "R",
   "pygments_lexer": "r",
   "version": "3.5.0"
  }
 },
 "nbformat": 4,
 "nbformat_minor": 2
}
